{
 "cells": [
  {
   "cell_type": "markdown",
   "id": "96958129",
   "metadata": {},
   "source": [
    "# import libraries"
   ]
  },
  {
   "cell_type": "code",
   "execution_count": 1,
   "id": "a537af99",
   "metadata": {},
   "outputs": [],
   "source": [
    "import os\n",
    "import pandas as pd\n",
    "import seaborn as sns\n",
    "import matplotlib.pyplot as plt\n",
    "import numpy as np\n",
    "from datetime import date , datetime"
   ]
  },
  {
   "cell_type": "markdown",
   "id": "00272f3b",
   "metadata": {},
   "source": [
    "# getting files"
   ]
  },
  {
   "cell_type": "code",
   "execution_count": 2,
   "id": "6c7dbe0b",
   "metadata": {},
   "outputs": [],
   "source": [
    "project_path = os.getcwd()\n",
    "file_path = f'{project_path}\\\\data\\\\'\n",
    "seprate_file_path = file_path+'\\\\seprate\\\\'"
   ]
  },
  {
   "cell_type": "code",
   "execution_count": 3,
   "id": "c71879d1",
   "metadata": {},
   "outputs": [
    {
     "name": "stdout",
     "output_type": "stream",
     "text": [
      "['AAPL.csv', 'AMZN.csv', 'GOOG.csv', 'NFLX.csv']\n"
     ]
    }
   ],
   "source": [
    "filelist = seprate_file_path\n",
    "stock_file_names = os.listdir(filelist)\n",
    "\n",
    "# prints all files\n",
    "print(stock_file_names)"
   ]
  },
  {
   "cell_type": "markdown",
   "id": "88277bfb",
   "metadata": {},
   "source": [
    "# concating all records in stock"
   ]
  },
  {
   "cell_type": "code",
   "execution_count": 4,
   "id": "b1fa912d",
   "metadata": {},
   "outputs": [
    {
     "name": "stdout",
     "output_type": "stream",
     "text": [
      "\n",
      "--------------------- Conversion Started ---------------------\n",
      "\n",
      "File Name 1):-  AAPL.csv\n",
      "File Name 2):-  AMZN.csv\n",
      "File Name 3):-  GOOG.csv\n",
      "File Name 4):-  NFLX.csv\n",
      "\n",
      "--------------------- Conversion Finished ---------------------\n",
      "\n"
     ]
    }
   ],
   "source": [
    "stock = []\n",
    "count = 0\n",
    "length = len(stock_file_names)\n",
    "print('')\n",
    "print('--------------------- Conversion Started ---------------------')\n",
    "print('')\n",
    "for i in stock_file_names:\n",
    "    print(f'File Name {count+1}):- ', i)\n",
    "    file_divide = i.split('.')\n",
    "    stock_name = file_divide[0]\n",
    "    #print(stock_name)\n",
    "    stock_data = pd.read_csv(seprate_file_path+f'{i}')\n",
    "    stock_data['stock_name'] = f'{stock_name}'\n",
    "    #print('')\n",
    "    #print(stock_data)\n",
    "    stock.append(stock_data)\n",
    "    count+=1\n",
    "print('')\n",
    "print('--------------------- Conversion Finished ---------------------')\n",
    "print('')\n",
    "stock = pd.concat(stock,ignore_index=1)"
   ]
  },
  {
   "cell_type": "markdown",
   "id": "afee398e",
   "metadata": {},
   "source": [
    "# show stock data / load stock data"
   ]
  },
  {
   "cell_type": "code",
   "execution_count": 5,
   "id": "403da62a",
   "metadata": {},
   "outputs": [
    {
     "name": "stdout",
     "output_type": "stream",
     "text": [
      "stock is running\n"
     ]
    }
   ],
   "source": [
    "print('stock is running')"
   ]
  },
  {
   "cell_type": "code",
   "execution_count": 6,
   "id": "cf9d1503",
   "metadata": {
    "scrolled": true
   },
   "outputs": [
    {
     "data": {
      "text/html": [
       "<div>\n",
       "<style scoped>\n",
       "    .dataframe tbody tr th:only-of-type {\n",
       "        vertical-align: middle;\n",
       "    }\n",
       "\n",
       "    .dataframe tbody tr th {\n",
       "        vertical-align: top;\n",
       "    }\n",
       "\n",
       "    .dataframe thead th {\n",
       "        text-align: right;\n",
       "    }\n",
       "</style>\n",
       "<table border=\"1\" class=\"dataframe\">\n",
       "  <thead>\n",
       "    <tr style=\"text-align: right;\">\n",
       "      <th></th>\n",
       "      <th>Date</th>\n",
       "      <th>Open</th>\n",
       "      <th>High</th>\n",
       "      <th>Low</th>\n",
       "      <th>Close</th>\n",
       "      <th>Adj Close</th>\n",
       "      <th>Volume</th>\n",
       "      <th>stock_name</th>\n",
       "    </tr>\n",
       "  </thead>\n",
       "  <tbody>\n",
       "    <tr>\n",
       "      <th>0</th>\n",
       "      <td>2010-01-04</td>\n",
       "      <td>7.622500</td>\n",
       "      <td>7.660714</td>\n",
       "      <td>7.585000</td>\n",
       "      <td>7.643214</td>\n",
       "      <td>6.544688</td>\n",
       "      <td>493729600</td>\n",
       "      <td>AAPL</td>\n",
       "    </tr>\n",
       "    <tr>\n",
       "      <th>1</th>\n",
       "      <td>2010-01-05</td>\n",
       "      <td>7.664286</td>\n",
       "      <td>7.699643</td>\n",
       "      <td>7.616071</td>\n",
       "      <td>7.656429</td>\n",
       "      <td>6.556003</td>\n",
       "      <td>601904800</td>\n",
       "      <td>AAPL</td>\n",
       "    </tr>\n",
       "    <tr>\n",
       "      <th>2</th>\n",
       "      <td>2010-01-06</td>\n",
       "      <td>7.656429</td>\n",
       "      <td>7.686786</td>\n",
       "      <td>7.526786</td>\n",
       "      <td>7.534643</td>\n",
       "      <td>6.451722</td>\n",
       "      <td>552160000</td>\n",
       "      <td>AAPL</td>\n",
       "    </tr>\n",
       "    <tr>\n",
       "      <th>3</th>\n",
       "      <td>2010-01-07</td>\n",
       "      <td>7.562500</td>\n",
       "      <td>7.571429</td>\n",
       "      <td>7.466071</td>\n",
       "      <td>7.520714</td>\n",
       "      <td>6.439793</td>\n",
       "      <td>477131200</td>\n",
       "      <td>AAPL</td>\n",
       "    </tr>\n",
       "    <tr>\n",
       "      <th>4</th>\n",
       "      <td>2010-01-08</td>\n",
       "      <td>7.510714</td>\n",
       "      <td>7.571429</td>\n",
       "      <td>7.466429</td>\n",
       "      <td>7.570714</td>\n",
       "      <td>6.482607</td>\n",
       "      <td>447610800</td>\n",
       "      <td>AAPL</td>\n",
       "    </tr>\n",
       "    <tr>\n",
       "      <th>...</th>\n",
       "      <td>...</td>\n",
       "      <td>...</td>\n",
       "      <td>...</td>\n",
       "      <td>...</td>\n",
       "      <td>...</td>\n",
       "      <td>...</td>\n",
       "      <td>...</td>\n",
       "      <td>...</td>\n",
       "    </tr>\n",
       "    <tr>\n",
       "      <th>12279</th>\n",
       "      <td>2022-02-24</td>\n",
       "      <td>355.089996</td>\n",
       "      <td>390.730011</td>\n",
       "      <td>354.720001</td>\n",
       "      <td>390.029999</td>\n",
       "      <td>390.029999</td>\n",
       "      <td>7068700</td>\n",
       "      <td>NFLX</td>\n",
       "    </tr>\n",
       "    <tr>\n",
       "      <th>12280</th>\n",
       "      <td>2022-02-25</td>\n",
       "      <td>386.609985</td>\n",
       "      <td>391.290009</td>\n",
       "      <td>375.579987</td>\n",
       "      <td>390.799988</td>\n",
       "      <td>390.799988</td>\n",
       "      <td>4841600</td>\n",
       "      <td>NFLX</td>\n",
       "    </tr>\n",
       "    <tr>\n",
       "      <th>12281</th>\n",
       "      <td>2022-02-28</td>\n",
       "      <td>387.329987</td>\n",
       "      <td>397.750000</td>\n",
       "      <td>382.130005</td>\n",
       "      <td>394.519989</td>\n",
       "      <td>394.519989</td>\n",
       "      <td>5035000</td>\n",
       "      <td>NFLX</td>\n",
       "    </tr>\n",
       "    <tr>\n",
       "      <th>12282</th>\n",
       "      <td>2022-03-01</td>\n",
       "      <td>391.600006</td>\n",
       "      <td>395.000000</td>\n",
       "      <td>383.709991</td>\n",
       "      <td>386.239990</td>\n",
       "      <td>386.239990</td>\n",
       "      <td>3290400</td>\n",
       "      <td>NFLX</td>\n",
       "    </tr>\n",
       "    <tr>\n",
       "      <th>12283</th>\n",
       "      <td>2022-03-02</td>\n",
       "      <td>388.929993</td>\n",
       "      <td>389.220001</td>\n",
       "      <td>375.209991</td>\n",
       "      <td>380.029999</td>\n",
       "      <td>380.029999</td>\n",
       "      <td>5356800</td>\n",
       "      <td>NFLX</td>\n",
       "    </tr>\n",
       "  </tbody>\n",
       "</table>\n",
       "<p>12284 rows × 8 columns</p>\n",
       "</div>"
      ],
      "text/plain": [
       "             Date        Open        High         Low       Close   Adj Close  \\\n",
       "0      2010-01-04    7.622500    7.660714    7.585000    7.643214    6.544688   \n",
       "1      2010-01-05    7.664286    7.699643    7.616071    7.656429    6.556003   \n",
       "2      2010-01-06    7.656429    7.686786    7.526786    7.534643    6.451722   \n",
       "3      2010-01-07    7.562500    7.571429    7.466071    7.520714    6.439793   \n",
       "4      2010-01-08    7.510714    7.571429    7.466429    7.570714    6.482607   \n",
       "...           ...         ...         ...         ...         ...         ...   \n",
       "12279  2022-02-24  355.089996  390.730011  354.720001  390.029999  390.029999   \n",
       "12280  2022-02-25  386.609985  391.290009  375.579987  390.799988  390.799988   \n",
       "12281  2022-02-28  387.329987  397.750000  382.130005  394.519989  394.519989   \n",
       "12282  2022-03-01  391.600006  395.000000  383.709991  386.239990  386.239990   \n",
       "12283  2022-03-02  388.929993  389.220001  375.209991  380.029999  380.029999   \n",
       "\n",
       "          Volume stock_name  \n",
       "0      493729600       AAPL  \n",
       "1      601904800       AAPL  \n",
       "2      552160000       AAPL  \n",
       "3      477131200       AAPL  \n",
       "4      447610800       AAPL  \n",
       "...          ...        ...  \n",
       "12279    7068700       NFLX  \n",
       "12280    4841600       NFLX  \n",
       "12281    5035000       NFLX  \n",
       "12282    3290400       NFLX  \n",
       "12283    5356800       NFLX  \n",
       "\n",
       "[12284 rows x 8 columns]"
      ]
     },
     "execution_count": 6,
     "metadata": {},
     "output_type": "execute_result"
    }
   ],
   "source": [
    "stock"
   ]
  },
  {
   "cell_type": "markdown",
   "id": "ece7e7d5",
   "metadata": {},
   "source": [
    "# stock describe"
   ]
  },
  {
   "cell_type": "code",
   "execution_count": 7,
   "id": "51d87473",
   "metadata": {
    "scrolled": true
   },
   "outputs": [
    {
     "data": {
      "text/plain": [
       "(12284, 8)"
      ]
     },
     "execution_count": 7,
     "metadata": {},
     "output_type": "execute_result"
    }
   ],
   "source": [
    "stock.shape"
   ]
  },
  {
   "cell_type": "code",
   "execution_count": 8,
   "id": "f316556c",
   "metadata": {},
   "outputs": [
    {
     "name": "stdout",
     "output_type": "stream",
     "text": [
      "<class 'pandas.core.frame.DataFrame'>\n",
      "RangeIndex: 12284 entries, 0 to 12283\n",
      "Data columns (total 8 columns):\n",
      " #   Column      Non-Null Count  Dtype  \n",
      "---  ------      --------------  -----  \n",
      " 0   Date        12284 non-null  object \n",
      " 1   Open        12284 non-null  float64\n",
      " 2   High        12284 non-null  float64\n",
      " 3   Low         12284 non-null  float64\n",
      " 4   Close       12284 non-null  float64\n",
      " 5   Adj Close   12284 non-null  float64\n",
      " 6   Volume      12284 non-null  int64  \n",
      " 7   stock_name  12284 non-null  object \n",
      "dtypes: float64(5), int64(1), object(2)\n",
      "memory usage: 767.9+ KB\n"
     ]
    }
   ],
   "source": [
    "stock.info()"
   ]
  },
  {
   "cell_type": "markdown",
   "id": "8ee92769",
   "metadata": {},
   "source": [
    "# removing all null values"
   ]
  },
  {
   "cell_type": "code",
   "execution_count": 9,
   "id": "a55815ab",
   "metadata": {
    "scrolled": true
   },
   "outputs": [
    {
     "data": {
      "text/plain": [
       "Date          0\n",
       "Open          0\n",
       "High          0\n",
       "Low           0\n",
       "Close         0\n",
       "Adj Close     0\n",
       "Volume        0\n",
       "stock_name    0\n",
       "dtype: int64"
      ]
     },
     "execution_count": 9,
     "metadata": {},
     "output_type": "execute_result"
    }
   ],
   "source": [
    "stock.isnull().sum()"
   ]
  },
  {
   "cell_type": "code",
   "execution_count": 10,
   "id": "0caec5d7",
   "metadata": {},
   "outputs": [],
   "source": [
    "### =>  getting percentage of null data values from stock"
   ]
  },
  {
   "cell_type": "code",
   "execution_count": 11,
   "id": "40df2b1f",
   "metadata": {},
   "outputs": [],
   "source": [
    "null_vals = stock.isnull().sum() / stock.shape[0] * 100"
   ]
  },
  {
   "cell_type": "code",
   "execution_count": 12,
   "id": "8b9a9d67",
   "metadata": {},
   "outputs": [
    {
     "data": {
      "text/plain": [
       "Date          0.0\n",
       "Open          0.0\n",
       "High          0.0\n",
       "Low           0.0\n",
       "Close         0.0\n",
       "Adj Close     0.0\n",
       "Volume        0.0\n",
       "stock_name    0.0\n",
       "dtype: float64"
      ]
     },
     "execution_count": 12,
     "metadata": {},
     "output_type": "execute_result"
    }
   ],
   "source": [
    "null_vals"
   ]
  },
  {
   "cell_type": "markdown",
   "id": "54a21c5b",
   "metadata": {},
   "source": [
    "### =>  droping null values from stock"
   ]
  },
  {
   "cell_type": "code",
   "execution_count": 13,
   "id": "dff921fb",
   "metadata": {},
   "outputs": [],
   "source": [
    "null_val_cols = null_vals[null_vals > 30].keys()"
   ]
  },
  {
   "cell_type": "code",
   "execution_count": 14,
   "id": "5c553d18",
   "metadata": {},
   "outputs": [],
   "source": [
    "stock.drop(null_val_cols,axis=1,inplace=True)"
   ]
  },
  {
   "cell_type": "code",
   "execution_count": 15,
   "id": "11c156de",
   "metadata": {},
   "outputs": [
    {
     "data": {
      "text/html": [
       "<div>\n",
       "<style scoped>\n",
       "    .dataframe tbody tr th:only-of-type {\n",
       "        vertical-align: middle;\n",
       "    }\n",
       "\n",
       "    .dataframe tbody tr th {\n",
       "        vertical-align: top;\n",
       "    }\n",
       "\n",
       "    .dataframe thead th {\n",
       "        text-align: right;\n",
       "    }\n",
       "</style>\n",
       "<table border=\"1\" class=\"dataframe\">\n",
       "  <thead>\n",
       "    <tr style=\"text-align: right;\">\n",
       "      <th></th>\n",
       "      <th>Date</th>\n",
       "      <th>Open</th>\n",
       "      <th>High</th>\n",
       "      <th>Low</th>\n",
       "      <th>Close</th>\n",
       "      <th>Adj Close</th>\n",
       "      <th>Volume</th>\n",
       "      <th>stock_name</th>\n",
       "    </tr>\n",
       "  </thead>\n",
       "  <tbody>\n",
       "    <tr>\n",
       "      <th>0</th>\n",
       "      <td>2010-01-04</td>\n",
       "      <td>7.622500</td>\n",
       "      <td>7.660714</td>\n",
       "      <td>7.585000</td>\n",
       "      <td>7.643214</td>\n",
       "      <td>6.544688</td>\n",
       "      <td>493729600</td>\n",
       "      <td>AAPL</td>\n",
       "    </tr>\n",
       "    <tr>\n",
       "      <th>1</th>\n",
       "      <td>2010-01-05</td>\n",
       "      <td>7.664286</td>\n",
       "      <td>7.699643</td>\n",
       "      <td>7.616071</td>\n",
       "      <td>7.656429</td>\n",
       "      <td>6.556003</td>\n",
       "      <td>601904800</td>\n",
       "      <td>AAPL</td>\n",
       "    </tr>\n",
       "    <tr>\n",
       "      <th>2</th>\n",
       "      <td>2010-01-06</td>\n",
       "      <td>7.656429</td>\n",
       "      <td>7.686786</td>\n",
       "      <td>7.526786</td>\n",
       "      <td>7.534643</td>\n",
       "      <td>6.451722</td>\n",
       "      <td>552160000</td>\n",
       "      <td>AAPL</td>\n",
       "    </tr>\n",
       "    <tr>\n",
       "      <th>3</th>\n",
       "      <td>2010-01-07</td>\n",
       "      <td>7.562500</td>\n",
       "      <td>7.571429</td>\n",
       "      <td>7.466071</td>\n",
       "      <td>7.520714</td>\n",
       "      <td>6.439793</td>\n",
       "      <td>477131200</td>\n",
       "      <td>AAPL</td>\n",
       "    </tr>\n",
       "    <tr>\n",
       "      <th>4</th>\n",
       "      <td>2010-01-08</td>\n",
       "      <td>7.510714</td>\n",
       "      <td>7.571429</td>\n",
       "      <td>7.466429</td>\n",
       "      <td>7.570714</td>\n",
       "      <td>6.482607</td>\n",
       "      <td>447610800</td>\n",
       "      <td>AAPL</td>\n",
       "    </tr>\n",
       "    <tr>\n",
       "      <th>...</th>\n",
       "      <td>...</td>\n",
       "      <td>...</td>\n",
       "      <td>...</td>\n",
       "      <td>...</td>\n",
       "      <td>...</td>\n",
       "      <td>...</td>\n",
       "      <td>...</td>\n",
       "      <td>...</td>\n",
       "    </tr>\n",
       "    <tr>\n",
       "      <th>12279</th>\n",
       "      <td>2022-02-24</td>\n",
       "      <td>355.089996</td>\n",
       "      <td>390.730011</td>\n",
       "      <td>354.720001</td>\n",
       "      <td>390.029999</td>\n",
       "      <td>390.029999</td>\n",
       "      <td>7068700</td>\n",
       "      <td>NFLX</td>\n",
       "    </tr>\n",
       "    <tr>\n",
       "      <th>12280</th>\n",
       "      <td>2022-02-25</td>\n",
       "      <td>386.609985</td>\n",
       "      <td>391.290009</td>\n",
       "      <td>375.579987</td>\n",
       "      <td>390.799988</td>\n",
       "      <td>390.799988</td>\n",
       "      <td>4841600</td>\n",
       "      <td>NFLX</td>\n",
       "    </tr>\n",
       "    <tr>\n",
       "      <th>12281</th>\n",
       "      <td>2022-02-28</td>\n",
       "      <td>387.329987</td>\n",
       "      <td>397.750000</td>\n",
       "      <td>382.130005</td>\n",
       "      <td>394.519989</td>\n",
       "      <td>394.519989</td>\n",
       "      <td>5035000</td>\n",
       "      <td>NFLX</td>\n",
       "    </tr>\n",
       "    <tr>\n",
       "      <th>12282</th>\n",
       "      <td>2022-03-01</td>\n",
       "      <td>391.600006</td>\n",
       "      <td>395.000000</td>\n",
       "      <td>383.709991</td>\n",
       "      <td>386.239990</td>\n",
       "      <td>386.239990</td>\n",
       "      <td>3290400</td>\n",
       "      <td>NFLX</td>\n",
       "    </tr>\n",
       "    <tr>\n",
       "      <th>12283</th>\n",
       "      <td>2022-03-02</td>\n",
       "      <td>388.929993</td>\n",
       "      <td>389.220001</td>\n",
       "      <td>375.209991</td>\n",
       "      <td>380.029999</td>\n",
       "      <td>380.029999</td>\n",
       "      <td>5356800</td>\n",
       "      <td>NFLX</td>\n",
       "    </tr>\n",
       "  </tbody>\n",
       "</table>\n",
       "<p>12284 rows × 8 columns</p>\n",
       "</div>"
      ],
      "text/plain": [
       "             Date        Open        High         Low       Close   Adj Close  \\\n",
       "0      2010-01-04    7.622500    7.660714    7.585000    7.643214    6.544688   \n",
       "1      2010-01-05    7.664286    7.699643    7.616071    7.656429    6.556003   \n",
       "2      2010-01-06    7.656429    7.686786    7.526786    7.534643    6.451722   \n",
       "3      2010-01-07    7.562500    7.571429    7.466071    7.520714    6.439793   \n",
       "4      2010-01-08    7.510714    7.571429    7.466429    7.570714    6.482607   \n",
       "...           ...         ...         ...         ...         ...         ...   \n",
       "12279  2022-02-24  355.089996  390.730011  354.720001  390.029999  390.029999   \n",
       "12280  2022-02-25  386.609985  391.290009  375.579987  390.799988  390.799988   \n",
       "12281  2022-02-28  387.329987  397.750000  382.130005  394.519989  394.519989   \n",
       "12282  2022-03-01  391.600006  395.000000  383.709991  386.239990  386.239990   \n",
       "12283  2022-03-02  388.929993  389.220001  375.209991  380.029999  380.029999   \n",
       "\n",
       "          Volume stock_name  \n",
       "0      493729600       AAPL  \n",
       "1      601904800       AAPL  \n",
       "2      552160000       AAPL  \n",
       "3      477131200       AAPL  \n",
       "4      447610800       AAPL  \n",
       "...          ...        ...  \n",
       "12279    7068700       NFLX  \n",
       "12280    4841600       NFLX  \n",
       "12281    5035000       NFLX  \n",
       "12282    3290400       NFLX  \n",
       "12283    5356800       NFLX  \n",
       "\n",
       "[12284 rows x 8 columns]"
      ]
     },
     "execution_count": 15,
     "metadata": {},
     "output_type": "execute_result"
    }
   ],
   "source": [
    "stock"
   ]
  },
  {
   "cell_type": "code",
   "execution_count": 16,
   "id": "940912f9",
   "metadata": {},
   "outputs": [
    {
     "data": {
      "text/plain": [
       "Date          0.0\n",
       "Open          0.0\n",
       "High          0.0\n",
       "Low           0.0\n",
       "Close         0.0\n",
       "Adj Close     0.0\n",
       "Volume        0.0\n",
       "stock_name    0.0\n",
       "dtype: float64"
      ]
     },
     "execution_count": 16,
     "metadata": {},
     "output_type": "execute_result"
    }
   ],
   "source": [
    "stock.isnull().sum() / stock.shape[0] * 100"
   ]
  },
  {
   "cell_type": "code",
   "execution_count": 17,
   "id": "e26736a5",
   "metadata": {},
   "outputs": [],
   "source": [
    "stock.dropna(inplace=True)"
   ]
  },
  {
   "cell_type": "code",
   "execution_count": 18,
   "id": "704b796c",
   "metadata": {},
   "outputs": [
    {
     "data": {
      "text/plain": [
       "Date          0\n",
       "Open          0\n",
       "High          0\n",
       "Low           0\n",
       "Close         0\n",
       "Adj Close     0\n",
       "Volume        0\n",
       "stock_name    0\n",
       "dtype: int64"
      ]
     },
     "execution_count": 18,
     "metadata": {},
     "output_type": "execute_result"
    }
   ],
   "source": [
    "stock.isnull().sum()"
   ]
  },
  {
   "cell_type": "code",
   "execution_count": null,
   "id": "b563b1c9",
   "metadata": {},
   "outputs": [],
   "source": [
    "stock"
   ]
  },
  {
   "cell_type": "markdown",
   "id": "aefd0fb3",
   "metadata": {},
   "source": [
    "# reshort stock data "
   ]
  },
  {
   "cell_type": "code",
   "execution_count": null,
   "id": "af116355",
   "metadata": {},
   "outputs": [],
   "source": [
    "stock = stock[['Date','stock_name','Open','High','Low','Close','Volume']]\n",
    "stock"
   ]
  },
  {
   "cell_type": "code",
   "execution_count": null,
   "id": "ad1e9c70",
   "metadata": {},
   "outputs": [],
   "source": [
    "unique_stocks = stock.stock_name.unique()\n",
    "unique_stocks"
   ]
  },
  {
   "cell_type": "code",
   "execution_count": null,
   "id": "d860801b",
   "metadata": {},
   "outputs": [],
   "source": [
    "stock[(stock.stock_name == 'AAPL')].sample(frac=0.01)"
   ]
  },
  {
   "cell_type": "code",
   "execution_count": null,
   "id": "9f888c6d",
   "metadata": {},
   "outputs": [],
   "source": [
    "stock_keys = stock.drop(['Date','stock_name'],axis=1).keys()\n",
    "color = ['c','g','r','k','#EC008C']"
   ]
  },
  {
   "cell_type": "code",
   "execution_count": null,
   "id": "1f276cab",
   "metadata": {},
   "outputs": [],
   "source": [
    "stock_keys"
   ]
  },
  {
   "cell_type": "code",
   "execution_count": null,
   "id": "79f2c925",
   "metadata": {},
   "outputs": [],
   "source": [
    "color"
   ]
  },
  {
   "cell_type": "code",
   "execution_count": null,
   "id": "99391505",
   "metadata": {
    "scrolled": false
   },
   "outputs": [],
   "source": [
    "datetime = datetime.now()\n",
    "current_time_str= f'{datetime.day}.{datetime.month}.{datetime.year}({datetime.hour}.{datetime.minute}.{datetime.second})'\n",
    "print(current_time_str)\n",
    "desired_folder = f'{project_path}\\\\charts\\\\'\n",
    "os.makedirs(f'{desired_folder}\\\\{current_time_str}')"
   ]
  },
  {
   "cell_type": "code",
   "execution_count": null,
   "id": "bba28b5d",
   "metadata": {
    "scrolled": true
   },
   "outputs": [],
   "source": [
    "count= 0\n",
    "for i in unique_stocks:\n",
    "    print(f'{count+1}). File start :- ',i)\n",
    "    condition = stock[(stock.stock_name == i)]\n",
    "    condition = condition.sample(frac=0.01)\n",
    "    print(f'{i} :- ploting executed')\n",
    "    fig , ax = plt.subplots(nrows=1,ncols=5,figsize=(60,8))\n",
    "    col_count = 0\n",
    "    dot = '.'\n",
    "    for stk_name in range(0,len(stock_keys)):\n",
    "        for graph_color in range(0,len(color)):\n",
    "            if (stk_name == graph_color):\n",
    "                ax[col_count].plot(condition['Date'],condition[stock_keys[stk_name]],c=f'{color[graph_color]}')\n",
    "                ax[col_count].set_title(f'{i} Date vs {stock_keys[stk_name]}', fontstyle='italic')\n",
    "                ax[col_count].set_xlabel('Date')\n",
    "                ax[col_count].set_ylabel(f'{stock_keys[stk_name]}')\n",
    "                col_count +=1\n",
    "                \n",
    "    print('---------------- File Saving Start----------------')\n",
    "    graphsave_folder = desired_folder+current_time_str+'\\\\'\n",
    "    file_datetime = datetime.now()\n",
    "    file_current_time_str= f'{file_datetime.day}.{file_datetime.month}.{file_datetime.year}({file_datetime.hour}.{file_datetime.minute}.{file_datetime.second})'\n",
    "    plt.savefig(graphsave_folder + f'{i}_{file_current_time_str}.png')\n",
    "    print(f'{i} figure saved successfully')\n",
    "    \n",
    "    print(f'{i} show ploting start')\n",
    "    plt.show()\n",
    "    print(f'{i} ploting done')\n",
    "\n",
    "    print('Other file now executing')\n",
    "    print('-------------------------------------------------')\n",
    "    print('')\n",
    "    count +=1\n",
    "\n",
    "print('File Finished')"
   ]
  },
  {
   "cell_type": "code",
   "execution_count": null,
   "id": "b2af8523",
   "metadata": {},
   "outputs": [],
   "source": [
    "stock"
   ]
  },
  {
   "cell_type": "code",
   "execution_count": null,
   "id": "edcd94ca",
   "metadata": {},
   "outputs": [],
   "source": [
    "stk_names = stock['stock_name'].unique().tolist()"
   ]
  },
  {
   "cell_type": "code",
   "execution_count": null,
   "id": "35590dcd",
   "metadata": {},
   "outputs": [],
   "source": [
    "for i in stk_names:\n",
    "    print(i)"
   ]
  },
  {
   "cell_type": "code",
   "execution_count": null,
   "id": "51a5d4e1",
   "metadata": {},
   "outputs": [],
   "source": []
  }
 ],
 "metadata": {
  "kernelspec": {
   "display_name": "Python 3 (ipykernel)",
   "language": "python",
   "name": "python3"
  },
  "language_info": {
   "codemirror_mode": {
    "name": "ipython",
    "version": 3
   },
   "file_extension": ".py",
   "mimetype": "text/x-python",
   "name": "python",
   "nbconvert_exporter": "python",
   "pygments_lexer": "ipython3",
   "version": "3.9.7"
  }
 },
 "nbformat": 4,
 "nbformat_minor": 5
}
